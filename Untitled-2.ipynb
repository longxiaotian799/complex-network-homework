{
 "cells": [
  {
   "cell_type": "code",
   "execution_count": 3,
   "metadata": {},
   "outputs": [
    {
     "name": "stdout",
     "output_type": "stream",
     "text": [
      "0 5 8 9 \n",
      "inf 0 3 4 \n",
      "inf inf 0 1 \n",
      "inf inf inf 0 \n"
     ]
    }
   ],
   "source": [
    "def floyd(graph):\n",
    "    n = len(graph)\n",
    "    dist = [[float('inf') for _ in range(n)] for _ in range(n)]\n",
    "    for i in range(n):\n",
    "        for j in range(n):\n",
    "            dist[i][j] = graph[i][j]\n",
    "    for k in range(n):\n",
    "        for i in range(n):\n",
    "            for j in range(n):\n",
    "                if dist[i][j] > dist[i][k] + dist[k][j]:\n",
    "                    dist[i][j] = dist[i][k] + dist[k][j]\n",
    "    return dist\n",
    "graph = [[0, 5, float('inf'), 10],\n",
    "         [float('inf'), 0, 3, float('inf')],\n",
    "         [float('inf'), float('inf'), 0, 1],\n",
    "         [float('inf'), float('inf'), float('inf'), 0]]\n",
    "\n",
    "dist = floyd(graph)\n",
    "\n",
    "for i in range(len(dist)):\n",
    "    for j in range(len(dist)):\n",
    "        if dist[i][j] == float('inf'):\n",
    "            print(\"inf\", end=\" \")\n",
    "        else:\n",
    "            print(dist[i][j], end=\" \")\n",
    "    print()"
   ]
  },
  {
   "cell_type": "code",
   "execution_count": 1,
   "metadata": {},
   "outputs": [
    {
     "name": "stdout",
     "output_type": "stream",
     "text": [
      "[[0, 5, 8, 9], [inf, 0, 3, 4], [inf, inf, 0, 1], [inf, inf, inf, 0]]\n"
     ]
    }
   ],
   "source": [
    "INF = float('inf')\n",
    "\n",
    "# function for matrix multiplication\n",
    "def matrix_multiply(a, b):\n",
    "    n = len(a)\n",
    "    c = [[0] * n for _ in range(n)]\n",
    "    for i in range(n):\n",
    "        for j in range(n):\n",
    "            for k in range(n):\n",
    "                c[i][j] = min(c[i][j], a[i][k] + b[k][j])\n",
    "    return c\n",
    "\n",
    "# Floyd's algorithm function\n",
    "def floyd(graph):\n",
    "    n = len(graph)\n",
    "    dist = graph\n",
    "    for k in range(n):\n",
    "        for i in range(n):\n",
    "            for j in range(n):\n",
    "                dist[i][j] = min(dist[i][j], dist[i][k] + dist[k][j])\n",
    "    return dist\n",
    "\n",
    "# example usage\n",
    "graph = [[0, 5, INF, 10],\n",
    "         [INF, 0, 3, INF],\n",
    "         [INF, INF, 0, 1],\n",
    "         [INF, INF, INF, 0]]\n",
    "\n",
    "distances = floyd(graph)\n",
    "print(distances)\n"
   ]
  }
 ],
 "metadata": {
  "kernelspec": {
   "display_name": "Python 3",
   "language": "python",
   "name": "python3"
  },
  "language_info": {
   "codemirror_mode": {
    "name": "ipython",
    "version": 3
   },
   "file_extension": ".py",
   "mimetype": "text/x-python",
   "name": "python",
   "nbconvert_exporter": "python",
   "pygments_lexer": "ipython3",
   "version": "3.11.3"
  },
  "orig_nbformat": 4
 },
 "nbformat": 4,
 "nbformat_minor": 2
}
